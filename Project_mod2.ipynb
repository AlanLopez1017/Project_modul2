{
  "nbformat": 4,
  "nbformat_minor": 0,
  "metadata": {
    "colab": {
      "name": "Project-mod2.ipynb",
      "provenance": [],
      "collapsed_sections": []
    },
    "kernelspec": {
      "name": "python3",
      "display_name": "Python 3"
    },
    "language_info": {
      "name": "python"
    }
  },
  "cells": [
    {
      "cell_type": "code",
      "execution_count": 1,
      "metadata": {
        "colab": {
          "base_uri": "https://localhost:8080/"
        },
        "id": "O7fyCmo8HQNR",
        "outputId": "aa363adc-d76c-405a-80ab-fdad39c34f38"
      },
      "outputs": [
        {
          "output_type": "stream",
          "name": "stdout",
          "text": [
            "Looking in indexes: https://pypi.org/simple, https://us-python.pkg.dev/colab-wheels/public/simple/\n",
            "Collecting pycountry\n",
            "  Downloading pycountry-22.3.5.tar.gz (10.1 MB)\n",
            "\u001b[K     |████████████████████████████████| 10.1 MB 5.2 MB/s \n",
            "\u001b[?25h  Installing build dependencies ... \u001b[?25l\u001b[?25hdone\n",
            "  Getting requirements to build wheel ... \u001b[?25l\u001b[?25hdone\n",
            "    Preparing wheel metadata ... \u001b[?25l\u001b[?25hdone\n",
            "Requirement already satisfied: setuptools in /usr/local/lib/python3.7/dist-packages (from pycountry) (57.4.0)\n",
            "Building wheels for collected packages: pycountry\n",
            "  Building wheel for pycountry (PEP 517) ... \u001b[?25l\u001b[?25hdone\n",
            "  Created wheel for pycountry: filename=pycountry-22.3.5-py2.py3-none-any.whl size=10681845 sha256=a76a4aa41f713ae5a526218f19c402822c028ce07427e4adc1fa52e30ec36ac7\n",
            "  Stored in directory: /root/.cache/pip/wheels/0e/06/e8/7ee176e95ea9a8a8c3b3afcb1869f20adbd42413d4611c6eb4\n",
            "Successfully built pycountry\n",
            "Installing collected packages: pycountry\n",
            "Successfully installed pycountry-22.3.5\n"
          ]
        }
      ],
      "source": [
        "import numpy as np \n",
        "import pandas as pd \n",
        "from datetime import datetime\n",
        "\n",
        "\n",
        "import matplotlib.pyplot as plt\n",
        "%matplotlib inline\n",
        "import seaborn as sns\n",
        "sns.set()\n",
        "from plotly.offline import init_notebook_mode, iplot \n",
        "import plotly.graph_objs as go\n",
        "import plotly.offline as py\n",
        "!pip install pycountry\n",
        "import folium \n",
        "from folium import plugins\n",
        "\n",
        "\n",
        "import numpy as np\n",
        "from PIL import Image\n",
        "\n",
        "\n",
        "import matplotlib.ticker as ticker\n",
        "import matplotlib.animation as animation\n",
        "from IPython.display import HTML\n",
        "\n",
        "# Graphics in retina format \n",
        "%config InlineBackend.figure_format = 'retina' \n",
        "\n",
        "# Increase the default plot size and set the color scheme\n",
        "plt.rcParams['figure.figsize'] = 8, 5\n",
        "\n",
        "\n",
        "# Disable warnings in Anaconda\n",
        "import warnings\n",
        "warnings.filterwarnings('ignore')\n",
        "import os"
      ]
    },
    {
      "cell_type": "code",
      "source": [
        "\n",
        "df = pd.read_csv('https://raw.githubusercontent.com/devfmx/master-data-ai/main/9.%20Proyecto/Forbes%20Richest%20Atheletes%20(Forbes%20Richest%20Athletes%201990-2020).csv')\n",
        "\n",
        "# Creating a copy of the original dataframe- df\n",
        "df1 = df.copy()\n",
        "df1.drop('S.NO',axis=1,inplace=True)\n",
        "df1.info()\n",
        "\n",
        "# Convert string to datetime64\n",
        "df1['Year'] = df1['Year'].apply(pd.to_datetime,format='%Y')\n",
        "\n",
        "#Set Date column as the index column.\n",
        "df1['year'] = pd.DatetimeIndex(df1['Year']).year  \n",
        "df1.set_index('year', inplace=True)\n",
        "df1.drop('Year',axis=1,inplace=True)\n",
        "\n",
        "# Converting the sport column to uppercase\n",
        "df1['Sport'] = df1['Sport'].str.upper()\n",
        "df1.head()"
      ],
      "metadata": {
        "colab": {
          "base_uri": "https://localhost:8080/",
          "height": 493
        },
        "id": "28EmeeKbHRrn",
        "outputId": "2dacf9e7-74b6-4a24-fbaa-601e0811e296"
      },
      "execution_count": 2,
      "outputs": [
        {
          "output_type": "stream",
          "name": "stdout",
          "text": [
            "<class 'pandas.core.frame.DataFrame'>\n",
            "RangeIndex: 301 entries, 0 to 300\n",
            "Data columns (total 7 columns):\n",
            " #   Column                Non-Null Count  Dtype  \n",
            "---  ------                --------------  -----  \n",
            " 0   Name                  301 non-null    object \n",
            " 1   Nationality           301 non-null    object \n",
            " 2   Current Rank          301 non-null    int64  \n",
            " 3   Previous Year Rank    277 non-null    object \n",
            " 4   Sport                 301 non-null    object \n",
            " 5   Year                  301 non-null    int64  \n",
            " 6   earnings ($ million)  301 non-null    float64\n",
            "dtypes: float64(1), int64(2), object(4)\n",
            "memory usage: 16.6+ KB\n"
          ]
        },
        {
          "output_type": "execute_result",
          "data": {
            "text/plain": [
              "                   Name Nationality  Current Rank Previous Year Rank  \\\n",
              "year                                                                   \n",
              "1990         Mike Tyson         USA             1                NaN   \n",
              "1990     Buster Douglas         USA             2                NaN   \n",
              "1990  Sugar Ray Leonard         USA             3                NaN   \n",
              "1990       Ayrton Senna      Brazil             4                NaN   \n",
              "1990        Alain Prost      France             5                NaN   \n",
              "\n",
              "            Sport  earnings ($ million)  \n",
              "year                                     \n",
              "1990       BOXING                  28.6  \n",
              "1990       BOXING                  26.0  \n",
              "1990       BOXING                  13.0  \n",
              "1990  AUTO RACING                  10.0  \n",
              "1990  AUTO RACING                   9.0  "
            ],
            "text/html": [
              "\n",
              "  <div id=\"df-7bd91b35-9c9c-4ca0-8471-662ebab92c68\">\n",
              "    <div class=\"colab-df-container\">\n",
              "      <div>\n",
              "<style scoped>\n",
              "    .dataframe tbody tr th:only-of-type {\n",
              "        vertical-align: middle;\n",
              "    }\n",
              "\n",
              "    .dataframe tbody tr th {\n",
              "        vertical-align: top;\n",
              "    }\n",
              "\n",
              "    .dataframe thead th {\n",
              "        text-align: right;\n",
              "    }\n",
              "</style>\n",
              "<table border=\"1\" class=\"dataframe\">\n",
              "  <thead>\n",
              "    <tr style=\"text-align: right;\">\n",
              "      <th></th>\n",
              "      <th>Name</th>\n",
              "      <th>Nationality</th>\n",
              "      <th>Current Rank</th>\n",
              "      <th>Previous Year Rank</th>\n",
              "      <th>Sport</th>\n",
              "      <th>earnings ($ million)</th>\n",
              "    </tr>\n",
              "    <tr>\n",
              "      <th>year</th>\n",
              "      <th></th>\n",
              "      <th></th>\n",
              "      <th></th>\n",
              "      <th></th>\n",
              "      <th></th>\n",
              "      <th></th>\n",
              "    </tr>\n",
              "  </thead>\n",
              "  <tbody>\n",
              "    <tr>\n",
              "      <th>1990</th>\n",
              "      <td>Mike Tyson</td>\n",
              "      <td>USA</td>\n",
              "      <td>1</td>\n",
              "      <td>NaN</td>\n",
              "      <td>BOXING</td>\n",
              "      <td>28.6</td>\n",
              "    </tr>\n",
              "    <tr>\n",
              "      <th>1990</th>\n",
              "      <td>Buster Douglas</td>\n",
              "      <td>USA</td>\n",
              "      <td>2</td>\n",
              "      <td>NaN</td>\n",
              "      <td>BOXING</td>\n",
              "      <td>26.0</td>\n",
              "    </tr>\n",
              "    <tr>\n",
              "      <th>1990</th>\n",
              "      <td>Sugar Ray Leonard</td>\n",
              "      <td>USA</td>\n",
              "      <td>3</td>\n",
              "      <td>NaN</td>\n",
              "      <td>BOXING</td>\n",
              "      <td>13.0</td>\n",
              "    </tr>\n",
              "    <tr>\n",
              "      <th>1990</th>\n",
              "      <td>Ayrton Senna</td>\n",
              "      <td>Brazil</td>\n",
              "      <td>4</td>\n",
              "      <td>NaN</td>\n",
              "      <td>AUTO RACING</td>\n",
              "      <td>10.0</td>\n",
              "    </tr>\n",
              "    <tr>\n",
              "      <th>1990</th>\n",
              "      <td>Alain Prost</td>\n",
              "      <td>France</td>\n",
              "      <td>5</td>\n",
              "      <td>NaN</td>\n",
              "      <td>AUTO RACING</td>\n",
              "      <td>9.0</td>\n",
              "    </tr>\n",
              "  </tbody>\n",
              "</table>\n",
              "</div>\n",
              "      <button class=\"colab-df-convert\" onclick=\"convertToInteractive('df-7bd91b35-9c9c-4ca0-8471-662ebab92c68')\"\n",
              "              title=\"Convert this dataframe to an interactive table.\"\n",
              "              style=\"display:none;\">\n",
              "        \n",
              "  <svg xmlns=\"http://www.w3.org/2000/svg\" height=\"24px\"viewBox=\"0 0 24 24\"\n",
              "       width=\"24px\">\n",
              "    <path d=\"M0 0h24v24H0V0z\" fill=\"none\"/>\n",
              "    <path d=\"M18.56 5.44l.94 2.06.94-2.06 2.06-.94-2.06-.94-.94-2.06-.94 2.06-2.06.94zm-11 1L8.5 8.5l.94-2.06 2.06-.94-2.06-.94L8.5 2.5l-.94 2.06-2.06.94zm10 10l.94 2.06.94-2.06 2.06-.94-2.06-.94-.94-2.06-.94 2.06-2.06.94z\"/><path d=\"M17.41 7.96l-1.37-1.37c-.4-.4-.92-.59-1.43-.59-.52 0-1.04.2-1.43.59L10.3 9.45l-7.72 7.72c-.78.78-.78 2.05 0 2.83L4 21.41c.39.39.9.59 1.41.59.51 0 1.02-.2 1.41-.59l7.78-7.78 2.81-2.81c.8-.78.8-2.07 0-2.86zM5.41 20L4 18.59l7.72-7.72 1.47 1.35L5.41 20z\"/>\n",
              "  </svg>\n",
              "      </button>\n",
              "      \n",
              "  <style>\n",
              "    .colab-df-container {\n",
              "      display:flex;\n",
              "      flex-wrap:wrap;\n",
              "      gap: 12px;\n",
              "    }\n",
              "\n",
              "    .colab-df-convert {\n",
              "      background-color: #E8F0FE;\n",
              "      border: none;\n",
              "      border-radius: 50%;\n",
              "      cursor: pointer;\n",
              "      display: none;\n",
              "      fill: #1967D2;\n",
              "      height: 32px;\n",
              "      padding: 0 0 0 0;\n",
              "      width: 32px;\n",
              "    }\n",
              "\n",
              "    .colab-df-convert:hover {\n",
              "      background-color: #E2EBFA;\n",
              "      box-shadow: 0px 1px 2px rgba(60, 64, 67, 0.3), 0px 1px 3px 1px rgba(60, 64, 67, 0.15);\n",
              "      fill: #174EA6;\n",
              "    }\n",
              "\n",
              "    [theme=dark] .colab-df-convert {\n",
              "      background-color: #3B4455;\n",
              "      fill: #D2E3FC;\n",
              "    }\n",
              "\n",
              "    [theme=dark] .colab-df-convert:hover {\n",
              "      background-color: #434B5C;\n",
              "      box-shadow: 0px 1px 3px 1px rgba(0, 0, 0, 0.15);\n",
              "      filter: drop-shadow(0px 1px 2px rgba(0, 0, 0, 0.3));\n",
              "      fill: #FFFFFF;\n",
              "    }\n",
              "  </style>\n",
              "\n",
              "      <script>\n",
              "        const buttonEl =\n",
              "          document.querySelector('#df-7bd91b35-9c9c-4ca0-8471-662ebab92c68 button.colab-df-convert');\n",
              "        buttonEl.style.display =\n",
              "          google.colab.kernel.accessAllowed ? 'block' : 'none';\n",
              "\n",
              "        async function convertToInteractive(key) {\n",
              "          const element = document.querySelector('#df-7bd91b35-9c9c-4ca0-8471-662ebab92c68');\n",
              "          const dataTable =\n",
              "            await google.colab.kernel.invokeFunction('convertToInteractive',\n",
              "                                                     [key], {});\n",
              "          if (!dataTable) return;\n",
              "\n",
              "          const docLinkHtml = 'Like what you see? Visit the ' +\n",
              "            '<a target=\"_blank\" href=https://colab.research.google.com/notebooks/data_table.ipynb>data table notebook</a>'\n",
              "            + ' to learn more about interactive tables.';\n",
              "          element.innerHTML = '';\n",
              "          dataTable['output_type'] = 'display_data';\n",
              "          await google.colab.output.renderOutput(dataTable, element);\n",
              "          const docLink = document.createElement('div');\n",
              "          docLink.innerHTML = docLinkHtml;\n",
              "          element.appendChild(docLink);\n",
              "        }\n",
              "      </script>\n",
              "    </div>\n",
              "  </div>\n",
              "  "
            ]
          },
          "metadata": {},
          "execution_count": 2
        }
      ]
    },
    {
      "cell_type": "markdown",
      "source": [
        "## 5 ¿Cuántos atletas por deporte tiene cada país?"
      ],
      "metadata": {
        "id": "4s25K7QUH1Uk"
      }
    },
    {
      "cell_type": "code",
      "source": [
        "atletas_por_deporte_y_pais = {}\n",
        "paises = list(set(df1['Nationality'])) # lista de paise\n",
        "\n",
        "for p in paises:\n",
        "  pais = df1[df1['Nationality']==p]\n",
        "  atletas_por_deporte = dict(pais['Sport'].value_counts().to_frame()) # obtiene el númeroo de atletas por deporte\n",
        "  atletas_por_deporte_y_pais[str(list(pais[\"Nationality\"].head(1)))] = dict(atletas_por_deporte['Sport']) # genera un diccionario -> key: pais, value: diccionario con atletas por deporte\n",
        "\n",
        "atletas_por_deporte_y_pais"
      ],
      "metadata": {
        "colab": {
          "base_uri": "https://localhost:8080/"
        },
        "id": "HN6DZWChHazX",
        "outputId": "bb2fdf10-ba4b-4281-f7c0-727319fbb8cf"
      },
      "execution_count": 3,
      "outputs": [
        {
          "output_type": "execute_result",
          "data": {
            "text/plain": [
              "{\"['Argentina']\": {'SOCCER': 9},\n",
              " \"['Australia']\": {'GOLF': 1},\n",
              " \"['Austria']\": {'AUTO RACING': 1},\n",
              " \"['Brazil']\": {'AUTO RACING': 4, 'SOCCER': 5},\n",
              " \"['Canada']\": {'AUTO RACING': 2, 'BOXING': 1, 'HOCKEY': 1, 'ICE HOCKEY': 2},\n",
              " \"['Dominican']\": {'BASEBALL': 1},\n",
              " \"['Filipino']\": {'BOXING': 1},\n",
              " \"['Finland']\": {'F1 RACING': 3},\n",
              " \"['France']\": {'AUTO RACING': 3},\n",
              " \"['Germany']\": {'AUTO RACING': 3, 'F1 MOTORSPORTS': 5, 'F1 RACING': 5},\n",
              " \"['Ireland']\": {'MMA': 1},\n",
              " \"['Italy']\": {'MOTORCYCLE GP': 4},\n",
              " \"['Mexico']\": {'BOXING': 1},\n",
              " \"['Northern Ireland']\": {'GOLF': 1},\n",
              " \"['Philippines']\": {'BOXING': 3},\n",
              " \"['Portugal']\": {'SOCCER': 10},\n",
              " \"['Russia']\": {'ICE HOCKEY': 1},\n",
              " \"['Serbia']\": {'TENNIS': 1},\n",
              " \"['Spain']\": {'TENNIS': 1},\n",
              " \"['Switzerland']\": {'TENNIS': 12},\n",
              " \"['UK']\": {'AUTO RACING': 4, 'SOCCER': 9},\n",
              " \"['USA']\": {'AMERICAN FOOTBALL': 17,\n",
              "  'AMERICAN FOOTBALL / BASEBALL': 1,\n",
              "  'AUTO RACING': 1,\n",
              "  'AUTO RACING (NASCAR)': 2,\n",
              "  'BASEBALL': 5,\n",
              "  'BASKETBALL': 81,\n",
              "  'BOXING': 40,\n",
              "  'CYCLING': 1,\n",
              "  'GOLF': 42,\n",
              "  'NASCAR': 3,\n",
              "  'NBA': 1,\n",
              "  'NFL': 3,\n",
              "  'TENNIS': 9}}"
            ]
          },
          "metadata": {},
          "execution_count": 3
        }
      ]
    },
    {
      "cell_type": "markdown",
      "source": [
        "## 6 Ganancia mínima y máxima (dentro del dataset) por deporte y por país."
      ],
      "metadata": {
        "id": "bPGFv2PfH6Es"
      }
    },
    {
      "cell_type": "code",
      "source": [
        "def ganancias(df, case):\n",
        "  print(\"Ganancias por \" + case + \"\\n\")\n",
        "  earn = {}\n",
        "  args = list(set(df[case]))\n",
        "  for a in args:\n",
        "    arg = df[df[case]==a]\n",
        "    earn[str(list(arg[case].head(1)))] = {'max':max(arg[\"earnings ($ million)\"]),\n",
        "                                          'min':min(arg[\"earnings ($ million)\"])}\n",
        "  return earn\n",
        "\n",
        "earn_sport = ganancias(df1, \"Sport\")\n",
        "earn_sport\n"
      ],
      "metadata": {
        "colab": {
          "base_uri": "https://localhost:8080/"
        },
        "id": "NicijdovHdrO",
        "outputId": "b330d1a8-1a4d-4a48-d109-b4ddbf59e53b"
      },
      "execution_count": 4,
      "outputs": [
        {
          "output_type": "stream",
          "name": "stdout",
          "text": [
            "Ganancias por Sport\n",
            "\n"
          ]
        },
        {
          "output_type": "execute_result",
          "data": {
            "text/plain": [
              "{\"['AMERICAN FOOTBALL / BASEBALL']\": {'max': 22.5, 'min': 22.5},\n",
              " \"['AMERICAN FOOTBALL']\": {'max': 89.5, 'min': 29.0},\n",
              " \"['AUTO RACING (NASCAR)']\": {'max': 24.5, 'min': 20.0},\n",
              " \"['AUTO RACING']\": {'max': 59.0, 'min': 9.0},\n",
              " \"['BASEBALL']\": {'max': 35.0, 'min': 12.7},\n",
              " \"['BASKETBALL']\": {'max': 89.0, 'min': 8.1},\n",
              " \"['BOXING']\": {'max': 300.0, 'min': 8.1},\n",
              " \"['CYCLING']\": {'max': 28.0, 'min': 28.0},\n",
              " \"['F1 MOTORSPORTS']\": {'max': 75.0, 'min': 33.0},\n",
              " \"['F1 RACING']\": {'max': 80.0, 'min': 34.0},\n",
              " \"['GOLF']\": {'max': 115.0, 'min': 8.1},\n",
              " \"['HOCKEY']\": {'max': 17.9, 'min': 17.9},\n",
              " \"['ICE HOCKEY']\": {'max': 29.8, 'min': 13.5},\n",
              " \"['MMA']\": {'max': 99.0, 'min': 99.0},\n",
              " \"['MOTORCYCLE GP']\": {'max': 35.0, 'min': 28.0},\n",
              " \"['NASCAR']\": {'max': 34.0, 'min': 19.1},\n",
              " \"['NBA']\": {'max': 15.2, 'min': 15.2},\n",
              " \"['NFL']\": {'max': 16.5, 'min': 9.5},\n",
              " \"['SOCCER']\": {'max': 127.0, 'min': 28.0},\n",
              " \"['TENNIS']\": {'max': 106.3, 'min': 8.5}}"
            ]
          },
          "metadata": {},
          "execution_count": 4
        }
      ]
    },
    {
      "cell_type": "code",
      "source": [
        "earn_country = ganancias(df1, \"Nationality\")\n",
        "earn_country"
      ],
      "metadata": {
        "colab": {
          "base_uri": "https://localhost:8080/"
        },
        "id": "vR6MFF0WIs0s",
        "outputId": "3fe45839-046b-4012-86f4-d58519d9d570"
      },
      "execution_count": 7,
      "outputs": [
        {
          "output_type": "stream",
          "name": "stdout",
          "text": [
            "Ganancias por Nationality\n",
            "\n"
          ]
        },
        {
          "output_type": "execute_result",
          "data": {
            "text/plain": [
              "{\"['Argentina']\": {'max': 127.0, 'min': 32.3},\n",
              " \"['Australia']\": {'max': 8.5, 'min': 8.5},\n",
              " \"['Austria']\": {'max': 13.5, 'min': 13.5},\n",
              " \"['Brazil']\": {'max': 105.0, 'min': 10.0},\n",
              " \"['Canada']\": {'max': 23.0, 'min': 10.2},\n",
              " \"['Dominican']\": {'max': 35.0, 'min': 35.0},\n",
              " \"['Filipino']\": {'max': 62.0, 'min': 62.0},\n",
              " \"['Finland']\": {'max': 45.0, 'min': 40.0},\n",
              " \"['France']\": {'max': 16.0, 'min': 9.0},\n",
              " \"['Germany']\": {'max': 80.0, 'min': 15.0},\n",
              " \"['Ireland']\": {'max': 99.0, 'min': 99.0},\n",
              " \"['Italy']\": {'max': 35.0, 'min': 28.0},\n",
              " \"['Mexico']\": {'max': 94.0, 'min': 94.0},\n",
              " \"['Northern Ireland']\": {'max': 50.0, 'min': 50.0},\n",
              " \"['Philippines']\": {'max': 160.0, 'min': 40.0},\n",
              " \"['Portugal']\": {'max': 109.0, 'min': 38.0},\n",
              " \"['Russia']\": {'max': 29.8, 'min': 29.8},\n",
              " \"['Serbia']\": {'max': 55.8, 'min': 55.8},\n",
              " \"['Spain']\": {'max': 44.5, 'min': 44.5},\n",
              " \"['Switzerland']\": {'max': 106.3, 'min': 35.0},\n",
              " \"['UK']\": {'max': 50.0, 'min': 9.0},\n",
              " \"['USA']\": {'max': 300.0, 'min': 8.1}}"
            ]
          },
          "metadata": {},
          "execution_count": 7
        }
      ]
    }
  ]
}